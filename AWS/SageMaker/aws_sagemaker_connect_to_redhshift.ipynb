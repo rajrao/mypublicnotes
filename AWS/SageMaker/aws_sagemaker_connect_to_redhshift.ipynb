{
 "cells": [
  {
   "cell_type": "code",
   "execution_count": null,
   "id": "cbae6848",
   "metadata": {},
   "outputs": [],
   "source": [
    "import os\n",
    "from socket import gethostname\n",
    "import getpass\n",
    "import pandas as pd\n",
    "import psycopg2"
   ]
  },
  {
   "cell_type": "code",
   "execution_count": null,
   "id": "df4e8ff8",
   "metadata": {},
   "outputs": [],
   "source": [
    "sagemaker_home = \"/home/ec2-user/SageMaker\"\n",
    "\n",
    "redshift_server_name = \"xxxx.yyyyyy.us-west-2.redshift.amazonaws.com\"\n",
    "redshift_server_jdbc_port = 5439\n",
    "redshift_database = \"dddddd\"\n"
   ]
  },
  {
   "cell_type": "code",
   "execution_count": null,
   "id": "7ccb2861",
   "metadata": {},
   "outputs": [],
   "source": [
    "redshift_uid = getpass.getpass(prompt='Enter username for Redshift') 
    "redshift_pwd = getpass.getpass(prompt='Enter password for Redshift')
    "\n",
    "conn = psycopg2.connect(\n",
    "     host=redshift_server_name,\n",
    "     port=redshift_server_jdbc_port,\n",
    "     database=redshift_database,\n",
    "     user='hvdwh_ro',\n",
    "     password=redshift_pwd\n",
    "   )\n",
    "\n",
    "redshift_pwd = \"****\""
   ]
  },
  {
   "cell_type": "code",
   "execution_count": null,
   "id": "371e7b27",
   "metadata": {},
   "outputs": [],
   "source": [
    "def execute_query(query: str) -> pd.core.frame.DataFrame:\n",
    "    cursor = conn.cursor()\n",
    "    cursor.execute(query)\n",
    "    rows = cursor.fetchall()\n",
    "    complete_df = pd.DataFrame(rows, columns = list(zip(*cursor.description))[0])\n",
    "    cursor.close()\n",
    "    return complete_df"
   ]
  },
  {
   "cell_type": "code",
   "execution_count": null,
   "id": "7ba18ce4",
   "metadata": {},
   "outputs": [],
   "source": [
    "df = execute_query('select * from hvr_rt_stage.ap_invoice_distributions_all limit 1')"
   ]
  },
  {
   "cell_type": "code",
   "execution_count": null,
   "id": "04137f2e",
   "metadata": {},
   "outputs": [],
   "source": [
    "display(df)"
   ]
  }
 ],
 "metadata": {
  "kernelspec": {
   "display_name": "conda_python3",
   "language": "python",
   "name": "conda_python3"
  },
  "language_info": {
   "codemirror_mode": {
    "name": "ipython",
    "version": 3
   },
   "file_extension": ".py",
   "mimetype": "text/x-python",
   "name": "python",
   "nbconvert_exporter": "python",
   "pygments_lexer": "ipython3",
   "version": "3.8.12"
  }
 },
 "nbformat": 4,
 "nbformat_minor": 5
}
