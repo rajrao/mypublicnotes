{
 "cells": [
  {
   "cell_type": "code",
   "execution_count": null,
   "id": "3d152f66",
   "metadata": {},
   "outputs": [],
   "source": [
    "#Sample code to connect to Denodo\n",
    "#from Sagemaker notebook\n"
   ]
  },
  {
   "cell_type": "code",
   "execution_count": null,
   "id": "3d152f66",
   "metadata": {},
   "outputs": [],
   "source": [
    "#create a conda_python3 notebook\n",
    "#install jaydebeapi if you need to (either by\n",
    "#uncommenting the below line or running it from\n",
    "#a terminal window)\n",
    "#You need to upload denodo-vdp-jdbcdriver.jar to\n",
    "#the home folder in your Jupyter workspace\n",
    "\n",
    "#%pip install jaydebeapi"
   ]
  },
  {
   "cell_type": "code",
   "execution_count": null,
   "id": "d5f2c8dc",
   "metadata": {},
   "outputs": [],
   "source": [
    "import os\n",
    "import jaydebeapi as dbdriver\n",
    "from socket import gethostname\n",
    "import getpass\n",
    "import pandas as pd"
   ]
  },
  {
   "cell_type": "code",
   "execution_count": null,
   "id": "62aa3db5",
   "metadata": {},
   "outputs": [],
   "source": [
    "denododriver_path = \"/home/ec2-user/SageMaker/denodo-vdp-jdbcdriver.jar\"\n",
    "sagemaker_home = \"/home/ec2-user/SageMaker\"\n",
    "\n",
    "# Connection parameters of the Denodo Server that we are connecting to\n",
    "denodoserver_name = \"servername\"\n",
    "denodoserver_jdbc_port = \"9999\"\n",
    "denodoserver_database = \"databasename\"\n",
    "\n",
    "client_hostname = gethostname()\n",
    "useragent = \"%s-%s\" % (dbdriver.__name__,client_hostname)\n",
    "print(useragent)\n",
    "\n",
    "conn_uri = \"jdbc:vdb://%s:%s/%s?userAgent=%s\" % (denodoserver_name,denodoserver_jdbc_port,denodoserver_database,useragent)\n",
    "print(conn_uri)"
   ]
  },
  {
   "cell_type": "code",
   "execution_count": null,
   "id": "965982df",
   "metadata": {},
   "outputs": [],
   "source": [
    "denodoserver_uid = getpass.getpass(prompt='Enter username for Denodo')\n",
    "denodoserver_pwd = getpass.getpass(prompt='Enter password for Denodo')\n",
    "\n",
    "cnxn = dbdriver.connect(\n",
    "    \"com.denodo.vdp.jdbc.Driver\",\n",
    "    conn_uri,\n",
    "    driver_args = {\n",
    "        \"user\": denodoserver_uid,\n",
    "        \"password\": denodoserver_pwd\n",
    "    },\n",
    "    jars = denododriver_path)\n",
    "\n",
    "#overwrite the uid and password as its no longer needed\n",
    "denodoserver_uid = \"****\"\n",
    "denodoserver_pwd = \"****\""
   ]
  },
  {
   "cell_type": "code",
   "execution_count": null,
   "id": "3d2410f2",
   "metadata": {},
   "outputs": [],
   "source": [
    "def execute_query(query: str) -> pd.core.frame.DataFrame:\n",
    "    cur = cnxn.cursor()\n",
    "    cur.execute(query)\n",
    "    rows = cur.fetchall()\n",
    "    complete_df = pd.DataFrame(rows, columns = list(zip(*cur.description))[0])\n",
    "    cur.close()\n",
    "    return complete_df"
   ]
  },
  {
   "cell_type": "code",
   "execution_count": null,
   "id": "376ac79a",
   "metadata": {},
   "outputs": [],
   "source": [
    "df = execute_query(\"select 1+1 as C1, 2*2 as C2, current_timestamp as ct\")\n",
    "print(df)"
   ]
  }
 ],
 "metadata": {
  "kernelspec": {
   "display_name": "conda_python3",
   "language": "python",
   "name": "conda_python3"
  },
  "language_info": {
   "codemirror_mode": {
    "name": "ipython",
    "version": 3
   },
   "file_extension": ".py",
   "mimetype": "text/x-python",
   "name": "python",
   "nbconvert_exporter": "python",
   "pygments_lexer": "ipython3",
   "version": "3.8.12"
  }
 },
 "nbformat": 4,
 "nbformat_minor": 5
}
